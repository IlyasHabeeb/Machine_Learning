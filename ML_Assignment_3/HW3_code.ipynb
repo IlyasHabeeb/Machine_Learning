{
 "cells": [
  {
   "cell_type": "markdown",
   "metadata": {},
   "source": [
    "# Machine Learning Assignment - 2\n"
   ]
  },
  {
   "cell_type": "markdown",
   "metadata": {},
   "source": [
    "## Part II- Programming "
   ]
  },
  {
   "cell_type": "markdown",
   "metadata": {},
   "source": [
    "### by"
   ]
  },
  {
   "cell_type": "markdown",
   "metadata": {},
   "source": [
    "#### Faiyaz Sundrani- fs1459\n",
    "#### Mohammed Ilyas Habeeb - mih278"
   ]
  },
  {
   "cell_type": "markdown",
   "metadata": {},
   "source": [
    "## Part - II: Programming Exercises"
   ]
  },
  {
   "cell_type": "code",
   "execution_count": 1,
   "metadata": {},
   "outputs": [],
   "source": [
    "import numpy as np  \n",
    "import pandas as pd\n",
    "from pandas import Series, DataFrame\n",
    "import matplotlib.pyplot as plt  \n",
    "from scipy.signal import argrelextrema\n",
    "import pylab\n",
    "import numpy"
   ]
  },
  {
   "cell_type": "markdown",
   "metadata": {},
   "source": [
    "## 1."
   ]
  },
  {
   "cell_type": "markdown",
   "metadata": {},
   "source": [
    "## a)"
   ]
  },
  {
   "cell_type": "code",
   "execution_count": 2,
   "metadata": {},
   "outputs": [
    {
     "data": {
      "image/png": "[encoded data removed]",
      "text/plain": [
       "<matplotlib.figure.Figure at 0x118686588>"
      ]
     },
     "metadata": {},
     "output_type": "display_data"
    }
   ],
   "source": [
    "\n",
    "\n",
    "xValue = numpy.linspace(-2,3,10000) # 100 linearly spaced numbers\n",
    "yValue = (16*(xValue**4))-(32*(xValue**3))- (8*(xValue**2))+ (10*xValue) + 9\n",
    "# compose plot\n",
    "pylab.plot(xValue,yValue) \n",
    "pylab.show() \n"
   ]
  },
  {
   "cell_type": "code",
   "execution_count": 3,
   "metadata": {},
   "outputs": [
    {
     "name": "stdout",
     "output_type": "stream",
     "text": [
      "Local Minimum is: -0.364336433643\n",
      "Global Minimum is: 1.59535953595\n"
     ]
    }
   ],
   "source": [
    "x = np.array(xValue)\n",
    "y = np.array(yValue)\n",
    "\n",
    "\n",
    "sort_idx = np.argsort(x)\n",
    "y=y[sort_idx]\n",
    "x=x[sort_idx]\n",
    "minm=np.array([],dtype=int)\n",
    "maxm=np.array([],dtype=int)\n",
    "length = y.size\n",
    "i=0\n",
    "\n",
    "while i < length-1:\n",
    "    if i < length - 1:\n",
    "        while i < length-1 and y[i+1] >= y[i]:\n",
    "            i+=1\n",
    "\n",
    "        if i != 0 and i < length-1:\n",
    "            maxm = np.append(maxm,i)\n",
    "\n",
    "        i+=1\n",
    "\n",
    "    if i < length - 1:\n",
    "        while i < length-1 and y[i+1] <= y[i]:\n",
    "            i+=1\n",
    "\n",
    "        if i < length-1:\n",
    "            minm = np.append(minm,i)\n",
    "        i+=1\n",
    "\n",
    "\n",
    "print(\"Local Minimum is:\", x[minm[0]])\n",
    "print(\"Global Minimum is:\", x[minm[1]])"
   ]
  },
  {
   "cell_type": "markdown",
   "metadata": {},
   "source": [
    "## b)"
   ]
  },
  {
   "cell_type": "code",
   "execution_count": 42,
   "metadata": {},
   "outputs": [
    {
     "data": {
      "text/plain": [
       "64*x**3 - 96*x**2 - 16*x + 10"
      ]
     },
     "execution_count": 42,
     "metadata": {},
     "output_type": "execute_result"
    }
   ],
   "source": [
    "\n",
    "from sympy import *\n",
    "x = Symbol('x')\n",
    "y = (16*(x**4))-(32*(x**3))- (8*(x**2))+ (10*x) + 9\n",
    "ydiff = y.diff(x)\n",
    "\n",
    "ydiff"
   ]
  },
  {
   "cell_type": "code",
   "execution_count": 4,
   "metadata": {},
   "outputs": [
    {
     "name": "stdout",
     "output_type": "stream",
     "text": [
      "Before entering the iteration Value of x is: -1 Value of f is: 39\n",
      "At the end of iteration 1 Value of x is: -0.866 Value of f is: 24.122076702976\n",
      "At the end of iteration 2 Value of x is: -0.776294662656 Value of f is: 17.196933470898333\n",
      "At the end of iteration 3 Value of x is: -0.7109220204970491 Value of f is: 13.432358919601501\n",
      "At the end of iteration 4 Value of x is: -0.6607817416581312 Value of f is: 11.182090980505741\n",
      "At the end of iteration 5 Value of x is: -0.6209723259625907 Value of f is: 9.746936730571225\n"
     ]
    }
   ],
   "source": [
    "from sympy import *\n",
    "def apply_grad_descent(x, xval, f, step_size, iterations):\n",
    "    '''\n",
    "    x - an integer, need to get an optimal value for it\n",
    "    f - the function of x,\n",
    "    step_size - controls how \"small\" or \"big\" of a step to take\n",
    "    iterations - how many times to update x\n",
    "    '''\n",
    "\n",
    "    int_f = lambdify(x, f, 'numpy')\n",
    "    val_of_func = int_f(xval)\n",
    "    print(\"Before entering the iteration\", \"Value of x is:\", xval, \"Value of f is:\", val_of_func)\n",
    "    for i in range(1, iterations+1):\n",
    "        \n",
    "        #Differentiate the function 'f' w.r.t x\n",
    "        diff_x = f.diff(x)\n",
    "        \n",
    "        #int_f will again compute the differentiation the function 'f' w.r.t x\n",
    "        int_f = lambdify(x, diff_x, 'numpy')\n",
    "        \n",
    "        #This will compute the value of function at xval\n",
    "        val_of_func = int_f(xval)\n",
    "        \n",
    "        #Updating the value of x (xval) by the formula\n",
    "        xval = xval - (step_size * val_of_func)\n",
    "        \n",
    "       \n",
    "        #\n",
    "        int_f2 = lambdify(x, f, 'numpy')\n",
    "        \n",
    "        if i > 995 or i <= 5:\n",
    "            print(\"At the end of iteration\", i, \"Value of x is:\", xval, \"Value of f is:\", int_f2(xval))\n",
    "       \n",
    "        \n",
    "x=Symbol('x')\n",
    "apply_grad_descent(x, -1, (16*(x**4))-(32*(x**3))- (8*(x**2))+ (10*x) + 9, 0.001, 5)"
   ]
  },
  {
   "cell_type": "markdown",
   "metadata": {},
   "source": [
    "<b>Run the gradient descent again, starting with x = −1, for 1000 iterations. <br />\n",
    "Report the last 5 values of x and f(x).<br />\n",
    "Has the value of x converged? <br />\n",
    "Has the gradient descent found a minimum? <br />\n",
    "Is it the global or the local minimum?</b>"
   ]
  },
  {
   "cell_type": "code",
   "execution_count": 5,
   "metadata": {},
   "outputs": [
    {
     "name": "stdout",
     "output_type": "stream",
     "text": [
      "Before entering the iteration Value of x is: -1 Value of f is: 39\n",
      "At the end of iteration 1 Value of x is: -0.866 Value of f is: 24.122076702976\n",
      "At the end of iteration 2 Value of x is: -0.776294662656 Value of f is: 17.196933470898333\n",
      "At the end of iteration 3 Value of x is: -0.7109220204970491 Value of f is: 13.432358919601501\n",
      "At the end of iteration 4 Value of x is: -0.6607817416581312 Value of f is: 11.182090980505741\n",
      "At the end of iteration 5 Value of x is: -0.6209723259625907 Value of f is: 9.746936730571225\n",
      "At the end of iteration 996 Value of x is: -0.36422374257061546 Value of f is: 6.124226461427285\n",
      "At the end of iteration 997 Value of x is: -0.36422374257061546 Value of f is: 6.124226461427285\n",
      "At the end of iteration 998 Value of x is: -0.36422374257061546 Value of f is: 6.124226461427285\n",
      "At the end of iteration 999 Value of x is: -0.36422374257061546 Value of f is: 6.124226461427285\n",
      "At the end of iteration 1000 Value of x is: -0.36422374257061546 Value of f is: 6.124226461427285\n"
     ]
    }
   ],
   "source": [
    "apply_grad_descent(x, -1, (16*(x**4))-(32*(x**3))- (8*(x**2))+ (10*x) + 9, 0.001, 1000)"
   ]
  },
  {
   "cell_type": "markdown",
   "metadata": {},
   "source": [
    "## c)"
   ]
  },
  {
   "cell_type": "markdown",
   "metadata": {},
   "source": [
    "<b>Repeat the previous exercise, but this time, start with x=2.</b>"
   ]
  },
  {
   "cell_type": "code",
   "execution_count": 6,
   "metadata": {},
   "outputs": [
    {
     "name": "stdout",
     "output_type": "stream",
     "text": [
      "Before entering the iteration Value of x is: 2 Value of f is: -3\n",
      "At the end of iteration 1 Value of x is: 1.894 Value of f is: -12.280893572864002\n",
      "At the end of iteration 2 Value of x is: 1.823848257024 Value of f is: -16.471988590606028\n",
      "At the end of iteration 3 Value of x is: 1.7740854376290425 Value of f is: -18.621275496013634\n",
      "At the end of iteration 4 Value of x is: 1.7372611541368062 Value of f is: -19.813420352480247\n",
      "At the end of iteration 5 Value of x is: 1.7092287072971393 Value of f is: -20.51063658566802\n",
      "At the end of iteration 996 Value of x is: 1.5953147000510859 Value of f is: -21.696233024904366\n",
      "At the end of iteration 997 Value of x is: 1.5953147000510859 Value of f is: -21.696233024904366\n",
      "At the end of iteration 998 Value of x is: 1.5953147000510859 Value of f is: -21.696233024904366\n",
      "At the end of iteration 999 Value of x is: 1.5953147000510859 Value of f is: -21.696233024904366\n",
      "At the end of iteration 1000 Value of x is: 1.5953147000510859 Value of f is: -21.696233024904366\n"
     ]
    }
   ],
   "source": [
    "apply_grad_descent(x, 2, (16*(x**4))-(32*(x**3))- (8*(x**2))+ (10*x) + 9, 0.001, 1000)"
   ]
  },
  {
   "cell_type": "markdown",
   "metadata": {},
   "source": [
    "## d)"
   ]
  },
  {
   "cell_type": "markdown",
   "metadata": {},
   "source": [
    "<b>\n",
    "Setting x = −1 and η = 0.01, run gradient descent for 1000 iterations. <br />\n",
    "As in the previous two exercises, report the initial values of x and f(x), the next 5 values of x and f(x), and the last 5 values of x and f(x). <br />\n",
    "Compare the results obtained this time to the results obtained in the first experiment (with x = −1 and η = 0.001). <br />\n",
    "What happened? </b>"
   ]
  },
  {
   "cell_type": "code",
   "execution_count": 7,
   "metadata": {},
   "outputs": [
    {
     "name": "stdout",
     "output_type": "stream",
     "text": [
      "Before entering the iteration Value of x is: -1 Value of f is: 39\n",
      "At the end of iteration 1 Value of x is: 0.3400000000000001 Value of f is: 10.43128576\n",
      "At the end of iteration 2 Value of x is: 0.38022144000000013 Value of f is: 10.221092268269524\n",
      "At the end of iteration 3 Value of x is: 0.44466297051775 Value of f is: 9.676878465941176\n",
      "At the end of iteration 4 Value of x is: 0.5493557211358288 Value of f is: 8.231163257954496\n",
      "At the end of iteration 5 Value of x is: 0.7208664355233224 Value of f is: 4.384921376586129\n",
      "At the end of iteration 996 Value of x is: 1.5953147000510854 Value of f is: -21.69623302490436\n",
      "At the end of iteration 997 Value of x is: 1.5953147000510852 Value of f is: -21.69623302490436\n",
      "At the end of iteration 998 Value of x is: 1.5953147000510854 Value of f is: -21.69623302490436\n",
      "At the end of iteration 999 Value of x is: 1.5953147000510852 Value of f is: -21.69623302490436\n",
      "At the end of iteration 1000 Value of x is: 1.5953147000510854 Value of f is: -21.69623302490436\n"
     ]
    }
   ],
   "source": [
    "apply_grad_descent(x, -1, (16*(x**4))-(32*(x**3))- (8*(x**2))+ (10*x) + 9, 0.01, 1000)"
   ]
  },
  {
   "cell_type": "markdown",
   "metadata": {},
   "source": [
    "## e)"
   ]
  },
  {
   "cell_type": "markdown",
   "metadata": {},
   "source": [
    "<b>\n",
    "Setting x = −1 and η = 0.05, run gradient descent for 100 iterations. <br />\n",
    "What happened? Explain. </b>"
   ]
  },
  {
   "cell_type": "code",
   "execution_count": 8,
   "metadata": {},
   "outputs": [
    {
     "name": "stdout",
     "output_type": "stream",
     "text": [
      "Before entering the iteration Value of x is: -1 Value of f is: 39\n",
      "At the end of iteration 1 Value of x is: 5.7 Value of f is: 10769.505600000002\n",
      "At the end of iteration 2 Value of x is: -426.9056000000001 Value of f is: 533919847405.0095\n",
      "At the end of iteration 3 Value of x is: 249843171.64200968 Value of f is: 6.234331865204753e+34\n",
      "At the end of iteration 4 Value of x is: -4.9905961701560285e+25 Value of f is: 9.924981332099234e+103\n"
     ]
    },
    {
     "ename": "OverflowError",
     "evalue": "(34, 'Result too large')",
     "output_type": "error",
     "traceback": [
      "\u001b[0;31m---------------------------------------------------------------------------\u001b[0m",
      "\u001b[0;31mOverflowError\u001b[0m                             Traceback (most recent call last)",
      "\u001b[0;32m<ipython-input-8-2f8e101c3fe2>\u001b[0m in \u001b[0;36m<module>\u001b[0;34m()\u001b[0m\n\u001b[0;32m----> 1\u001b[0;31m \u001b[0mapply_grad_descent\u001b[0m\u001b[0;34m(\u001b[0m\u001b[0mx\u001b[0m\u001b[0;34m,\u001b[0m \u001b[0;34m-\u001b[0m\u001b[0;36m1\u001b[0m\u001b[0;34m,\u001b[0m \u001b[0;34m(\u001b[0m\u001b[0;36m16\u001b[0m\u001b[0;34m*\u001b[0m\u001b[0;34m(\u001b[0m\u001b[0mx\u001b[0m\u001b[0;34m**\u001b[0m\u001b[0;36m4\u001b[0m\u001b[0;34m)\u001b[0m\u001b[0;34m)\u001b[0m\u001b[0;34m-\u001b[0m\u001b[0;34m(\u001b[0m\u001b[0;36m32\u001b[0m\u001b[0;34m*\u001b[0m\u001b[0;34m(\u001b[0m\u001b[0mx\u001b[0m\u001b[0;34m**\u001b[0m\u001b[0;36m3\u001b[0m\u001b[0;34m)\u001b[0m\u001b[0;34m)\u001b[0m\u001b[0;34m-\u001b[0m \u001b[0;34m(\u001b[0m\u001b[0;36m8\u001b[0m\u001b[0;34m*\u001b[0m\u001b[0;34m(\u001b[0m\u001b[0mx\u001b[0m\u001b[0;34m**\u001b[0m\u001b[0;36m2\u001b[0m\u001b[0;34m)\u001b[0m\u001b[0;34m)\u001b[0m\u001b[0;34m+\u001b[0m \u001b[0;34m(\u001b[0m\u001b[0;36m10\u001b[0m\u001b[0;34m*\u001b[0m\u001b[0mx\u001b[0m\u001b[0;34m)\u001b[0m \u001b[0;34m+\u001b[0m \u001b[0;36m9\u001b[0m\u001b[0;34m,\u001b[0m \u001b[0;36m0.05\u001b[0m\u001b[0;34m,\u001b[0m \u001b[0;36m100\u001b[0m\u001b[0;34m)\u001b[0m\u001b[0;34m\u001b[0m\u001b[0m\n\u001b[0m",
      "\u001b[0;32m<ipython-input-4-e2294cba886a>\u001b[0m in \u001b[0;36mapply_grad_descent\u001b[0;34m(x, xval, f, step_size, iterations)\u001b[0m\n\u001b[1;32m     30\u001b[0m \u001b[0;34m\u001b[0m\u001b[0m\n\u001b[1;32m     31\u001b[0m         \u001b[0;32mif\u001b[0m \u001b[0mi\u001b[0m \u001b[0;34m>\u001b[0m \u001b[0;36m995\u001b[0m \u001b[0;32mor\u001b[0m \u001b[0mi\u001b[0m \u001b[0;34m<=\u001b[0m \u001b[0;36m5\u001b[0m\u001b[0;34m:\u001b[0m\u001b[0;34m\u001b[0m\u001b[0m\n\u001b[0;32m---> 32\u001b[0;31m             \u001b[0mprint\u001b[0m\u001b[0;34m(\u001b[0m\u001b[0;34m\"At the end of iteration\"\u001b[0m\u001b[0;34m,\u001b[0m \u001b[0mi\u001b[0m\u001b[0;34m,\u001b[0m \u001b[0;34m\"Value of x is:\"\u001b[0m\u001b[0;34m,\u001b[0m \u001b[0mxval\u001b[0m\u001b[0;34m,\u001b[0m \u001b[0;34m\"Value of f is:\"\u001b[0m\u001b[0;34m,\u001b[0m \u001b[0mint_f2\u001b[0m\u001b[0;34m(\u001b[0m\u001b[0mxval\u001b[0m\u001b[0;34m)\u001b[0m\u001b[0;34m)\u001b[0m\u001b[0;34m\u001b[0m\u001b[0m\n\u001b[0m\u001b[1;32m     33\u001b[0m \u001b[0;34m\u001b[0m\u001b[0m\n\u001b[1;32m     34\u001b[0m \u001b[0;34m\u001b[0m\u001b[0m\n",
      "\u001b[0;32m/Applications/anaconda/lib/python3.5/site-packages/numpy/__init__.py\u001b[0m in \u001b[0;36m<lambda>\u001b[0;34m(_Dummy_6037)\u001b[0m\n",
      "\u001b[0;31mOverflowError\u001b[0m: (34, 'Result too large')"
     ]
    }
   ],
   "source": [
    "apply_grad_descent(x, -1, (16*(x**4))-(32*(x**3))- (8*(x**2))+ (10*x) + 9, 0.05, 100)"
   ]
  },
  {
   "cell_type": "markdown",
   "metadata": {},
   "source": [
    "## 2."
   ]
  },
  {
   "cell_type": "markdown",
   "metadata": {},
   "source": [
    "## a)"
   ]
  },
  {
   "cell_type": "code",
   "execution_count": 9,
   "metadata": {},
   "outputs": [],
   "source": [
    "attributes = []\n",
    "for i in range(1,61):\n",
    "    x = \"x\"+str(i)\n",
    "    attributes.append(x)\n",
    "    \n",
    "attributes.append('r')"
   ]
  },
  {
   "cell_type": "code",
   "execution_count": 10,
   "metadata": {},
   "outputs": [
    {
     "data": {
      "text/html": [
       "<div>\n",
       "<style>\n",
       "    .dataframe thead tr:only-child th {\n",
       "        text-align: right;\n",
       "    }\n",
       "\n",
       "    .dataframe thead th {\n",
       "        text-align: left;\n",
       "    }\n",
       "\n",
       "    .dataframe tbody tr th {\n",
       "        vertical-align: top;\n",
       "    }\n",
       "</style>\n",
       "<table border=\"1\" class=\"dataframe\">\n",
       "  <thead>\n",
       "    <tr style=\"text-align: right;\">\n",
       "      <th></th>\n",
       "      <th>x1</th>\n",
       "      <th>x2</th>\n",
       "      <th>x3</th>\n",
       "      <th>x4</th>\n",
       "      <th>x5</th>\n",
       "      <th>x6</th>\n",
       "      <th>x7</th>\n",
       "      <th>x8</th>\n",
       "      <th>x9</th>\n",
       "      <th>x10</th>\n",
       "      <th>...</th>\n",
       "      <th>x52</th>\n",
       "      <th>x53</th>\n",
       "      <th>x54</th>\n",
       "      <th>x55</th>\n",
       "      <th>x56</th>\n",
       "      <th>x57</th>\n",
       "      <th>x58</th>\n",
       "      <th>x59</th>\n",
       "      <th>x60</th>\n",
       "      <th>r</th>\n",
       "    </tr>\n",
       "  </thead>\n",
       "  <tbody>\n",
       "    <tr>\n",
       "      <th>0</th>\n",
       "      <td>0.0190</td>\n",
       "      <td>0.0038</td>\n",
       "      <td>0.0642</td>\n",
       "      <td>0.0452</td>\n",
       "      <td>0.0333</td>\n",
       "      <td>0.0690</td>\n",
       "      <td>0.0901</td>\n",
       "      <td>0.1454</td>\n",
       "      <td>0.0740</td>\n",
       "      <td>0.0349</td>\n",
       "      <td>...</td>\n",
       "      <td>0.0093</td>\n",
       "      <td>0.0118</td>\n",
       "      <td>0.0112</td>\n",
       "      <td>0.0094</td>\n",
       "      <td>0.0140</td>\n",
       "      <td>0.0072</td>\n",
       "      <td>0.0022</td>\n",
       "      <td>0.0055</td>\n",
       "      <td>0.0122</td>\n",
       "      <td>0</td>\n",
       "    </tr>\n",
       "    <tr>\n",
       "      <th>1</th>\n",
       "      <td>0.0151</td>\n",
       "      <td>0.0320</td>\n",
       "      <td>0.0599</td>\n",
       "      <td>0.1050</td>\n",
       "      <td>0.1163</td>\n",
       "      <td>0.1734</td>\n",
       "      <td>0.1679</td>\n",
       "      <td>0.1119</td>\n",
       "      <td>0.0889</td>\n",
       "      <td>0.1205</td>\n",
       "      <td>...</td>\n",
       "      <td>0.0061</td>\n",
       "      <td>0.0015</td>\n",
       "      <td>0.0084</td>\n",
       "      <td>0.0128</td>\n",
       "      <td>0.0054</td>\n",
       "      <td>0.0011</td>\n",
       "      <td>0.0019</td>\n",
       "      <td>0.0023</td>\n",
       "      <td>0.0062</td>\n",
       "      <td>0</td>\n",
       "    </tr>\n",
       "    <tr>\n",
       "      <th>2</th>\n",
       "      <td>0.0712</td>\n",
       "      <td>0.0901</td>\n",
       "      <td>0.1276</td>\n",
       "      <td>0.1497</td>\n",
       "      <td>0.1284</td>\n",
       "      <td>0.1165</td>\n",
       "      <td>0.1285</td>\n",
       "      <td>0.1684</td>\n",
       "      <td>0.1830</td>\n",
       "      <td>0.2127</td>\n",
       "      <td>...</td>\n",
       "      <td>0.0154</td>\n",
       "      <td>0.0156</td>\n",
       "      <td>0.0054</td>\n",
       "      <td>0.0030</td>\n",
       "      <td>0.0048</td>\n",
       "      <td>0.0087</td>\n",
       "      <td>0.0101</td>\n",
       "      <td>0.0095</td>\n",
       "      <td>0.0068</td>\n",
       "      <td>1</td>\n",
       "    </tr>\n",
       "    <tr>\n",
       "      <th>3</th>\n",
       "      <td>0.1088</td>\n",
       "      <td>0.1278</td>\n",
       "      <td>0.0926</td>\n",
       "      <td>0.1234</td>\n",
       "      <td>0.1276</td>\n",
       "      <td>0.1731</td>\n",
       "      <td>0.1948</td>\n",
       "      <td>0.4262</td>\n",
       "      <td>0.6828</td>\n",
       "      <td>0.5761</td>\n",
       "      <td>...</td>\n",
       "      <td>0.0455</td>\n",
       "      <td>0.0213</td>\n",
       "      <td>0.0082</td>\n",
       "      <td>0.0124</td>\n",
       "      <td>0.0167</td>\n",
       "      <td>0.0103</td>\n",
       "      <td>0.0205</td>\n",
       "      <td>0.0178</td>\n",
       "      <td>0.0187</td>\n",
       "      <td>1</td>\n",
       "    </tr>\n",
       "    <tr>\n",
       "      <th>4</th>\n",
       "      <td>0.0086</td>\n",
       "      <td>0.0215</td>\n",
       "      <td>0.0242</td>\n",
       "      <td>0.0445</td>\n",
       "      <td>0.0667</td>\n",
       "      <td>0.0771</td>\n",
       "      <td>0.0499</td>\n",
       "      <td>0.0906</td>\n",
       "      <td>0.1229</td>\n",
       "      <td>0.1185</td>\n",
       "      <td>...</td>\n",
       "      <td>0.0072</td>\n",
       "      <td>0.0054</td>\n",
       "      <td>0.0022</td>\n",
       "      <td>0.0016</td>\n",
       "      <td>0.0029</td>\n",
       "      <td>0.0058</td>\n",
       "      <td>0.0050</td>\n",
       "      <td>0.0024</td>\n",
       "      <td>0.0030</td>\n",
       "      <td>0</td>\n",
       "    </tr>\n",
       "  </tbody>\n",
       "</table>\n",
       "<p>5 rows × 61 columns</p>\n",
       "</div>"
      ],
      "text/plain": [
       "       x1      x2      x3      x4      x5      x6      x7      x8      x9  \\\n",
       "0  0.0190  0.0038  0.0642  0.0452  0.0333  0.0690  0.0901  0.1454  0.0740   \n",
       "1  0.0151  0.0320  0.0599  0.1050  0.1163  0.1734  0.1679  0.1119  0.0889   \n",
       "2  0.0712  0.0901  0.1276  0.1497  0.1284  0.1165  0.1285  0.1684  0.1830   \n",
       "3  0.1088  0.1278  0.0926  0.1234  0.1276  0.1731  0.1948  0.4262  0.6828   \n",
       "4  0.0086  0.0215  0.0242  0.0445  0.0667  0.0771  0.0499  0.0906  0.1229   \n",
       "\n",
       "      x10 ...     x52     x53     x54     x55     x56     x57     x58     x59  \\\n",
       "0  0.0349 ...  0.0093  0.0118  0.0112  0.0094  0.0140  0.0072  0.0022  0.0055   \n",
       "1  0.1205 ...  0.0061  0.0015  0.0084  0.0128  0.0054  0.0011  0.0019  0.0023   \n",
       "2  0.2127 ...  0.0154  0.0156  0.0054  0.0030  0.0048  0.0087  0.0101  0.0095   \n",
       "3  0.5761 ...  0.0455  0.0213  0.0082  0.0124  0.0167  0.0103  0.0205  0.0178   \n",
       "4  0.1185 ...  0.0072  0.0054  0.0022  0.0016  0.0029  0.0058  0.0050  0.0024   \n",
       "\n",
       "      x60  r  \n",
       "0  0.0122  0  \n",
       "1  0.0062  0  \n",
       "2  0.0068  1  \n",
       "3  0.0187  1  \n",
       "4  0.0030  0  \n",
       "\n",
       "[5 rows x 61 columns]"
      ]
     },
     "execution_count": 10,
     "metadata": {},
     "output_type": "execute_result"
    }
   ],
   "source": [
    "data = pd.read_csv('sonar.csv', header = None, names = attributes, index_col = False)\n",
    "\n",
    "data['r'] = data.r.replace('Rock', 0)\n",
    "data['r'] = data.r.replace('Mine', 1)\n",
    "data.head()"
   ]
  },
  {
   "cell_type": "code",
   "execution_count": 11,
   "metadata": {
    "scrolled": true
   },
   "outputs": [
    {
     "data": {
      "text/html": [
       "<div>\n",
       "<style>\n",
       "    .dataframe thead tr:only-child th {\n",
       "        text-align: right;\n",
       "    }\n",
       "\n",
       "    .dataframe thead th {\n",
       "        text-align: left;\n",
       "    }\n",
       "\n",
       "    .dataframe tbody tr th {\n",
       "        vertical-align: top;\n",
       "    }\n",
       "</style>\n",
       "<table border=\"1\" class=\"dataframe\">\n",
       "  <thead>\n",
       "    <tr style=\"text-align: right;\">\n",
       "      <th></th>\n",
       "      <th>x1</th>\n",
       "      <th>x2</th>\n",
       "      <th>x3</th>\n",
       "      <th>x4</th>\n",
       "      <th>x5</th>\n",
       "      <th>x6</th>\n",
       "      <th>x7</th>\n",
       "      <th>x8</th>\n",
       "      <th>x9</th>\n",
       "      <th>x10</th>\n",
       "      <th>...</th>\n",
       "      <th>x53</th>\n",
       "      <th>x54</th>\n",
       "      <th>x55</th>\n",
       "      <th>x56</th>\n",
       "      <th>x57</th>\n",
       "      <th>x58</th>\n",
       "      <th>x59</th>\n",
       "      <th>x60</th>\n",
       "      <th>r</th>\n",
       "      <th>y_initial_wts</th>\n",
       "    </tr>\n",
       "  </thead>\n",
       "  <tbody>\n",
       "    <tr>\n",
       "      <th>0</th>\n",
       "      <td>0.0190</td>\n",
       "      <td>0.0038</td>\n",
       "      <td>0.0642</td>\n",
       "      <td>0.0452</td>\n",
       "      <td>0.0333</td>\n",
       "      <td>0.0690</td>\n",
       "      <td>0.0901</td>\n",
       "      <td>0.1454</td>\n",
       "      <td>0.0740</td>\n",
       "      <td>0.0349</td>\n",
       "      <td>...</td>\n",
       "      <td>0.0118</td>\n",
       "      <td>0.0112</td>\n",
       "      <td>0.0094</td>\n",
       "      <td>0.0140</td>\n",
       "      <td>0.0072</td>\n",
       "      <td>0.0022</td>\n",
       "      <td>0.0055</td>\n",
       "      <td>0.0122</td>\n",
       "      <td>0</td>\n",
       "      <td>0.999859</td>\n",
       "    </tr>\n",
       "    <tr>\n",
       "      <th>1</th>\n",
       "      <td>0.0151</td>\n",
       "      <td>0.0320</td>\n",
       "      <td>0.0599</td>\n",
       "      <td>0.1050</td>\n",
       "      <td>0.1163</td>\n",
       "      <td>0.1734</td>\n",
       "      <td>0.1679</td>\n",
       "      <td>0.1119</td>\n",
       "      <td>0.0889</td>\n",
       "      <td>0.1205</td>\n",
       "      <td>...</td>\n",
       "      <td>0.0015</td>\n",
       "      <td>0.0084</td>\n",
       "      <td>0.0128</td>\n",
       "      <td>0.0054</td>\n",
       "      <td>0.0011</td>\n",
       "      <td>0.0019</td>\n",
       "      <td>0.0023</td>\n",
       "      <td>0.0062</td>\n",
       "      <td>0</td>\n",
       "      <td>0.999671</td>\n",
       "    </tr>\n",
       "    <tr>\n",
       "      <th>2</th>\n",
       "      <td>0.0712</td>\n",
       "      <td>0.0901</td>\n",
       "      <td>0.1276</td>\n",
       "      <td>0.1497</td>\n",
       "      <td>0.1284</td>\n",
       "      <td>0.1165</td>\n",
       "      <td>0.1285</td>\n",
       "      <td>0.1684</td>\n",
       "      <td>0.1830</td>\n",
       "      <td>0.2127</td>\n",
       "      <td>...</td>\n",
       "      <td>0.0156</td>\n",
       "      <td>0.0054</td>\n",
       "      <td>0.0030</td>\n",
       "      <td>0.0048</td>\n",
       "      <td>0.0087</td>\n",
       "      <td>0.0101</td>\n",
       "      <td>0.0095</td>\n",
       "      <td>0.0068</td>\n",
       "      <td>1</td>\n",
       "      <td>0.999423</td>\n",
       "    </tr>\n",
       "    <tr>\n",
       "      <th>3</th>\n",
       "      <td>0.1088</td>\n",
       "      <td>0.1278</td>\n",
       "      <td>0.0926</td>\n",
       "      <td>0.1234</td>\n",
       "      <td>0.1276</td>\n",
       "      <td>0.1731</td>\n",
       "      <td>0.1948</td>\n",
       "      <td>0.4262</td>\n",
       "      <td>0.6828</td>\n",
       "      <td>0.5761</td>\n",
       "      <td>...</td>\n",
       "      <td>0.0213</td>\n",
       "      <td>0.0082</td>\n",
       "      <td>0.0124</td>\n",
       "      <td>0.0167</td>\n",
       "      <td>0.0103</td>\n",
       "      <td>0.0205</td>\n",
       "      <td>0.0178</td>\n",
       "      <td>0.0187</td>\n",
       "      <td>1</td>\n",
       "      <td>0.999984</td>\n",
       "    </tr>\n",
       "    <tr>\n",
       "      <th>4</th>\n",
       "      <td>0.0086</td>\n",
       "      <td>0.0215</td>\n",
       "      <td>0.0242</td>\n",
       "      <td>0.0445</td>\n",
       "      <td>0.0667</td>\n",
       "      <td>0.0771</td>\n",
       "      <td>0.0499</td>\n",
       "      <td>0.0906</td>\n",
       "      <td>0.1229</td>\n",
       "      <td>0.1185</td>\n",
       "      <td>...</td>\n",
       "      <td>0.0054</td>\n",
       "      <td>0.0022</td>\n",
       "      <td>0.0016</td>\n",
       "      <td>0.0029</td>\n",
       "      <td>0.0058</td>\n",
       "      <td>0.0050</td>\n",
       "      <td>0.0024</td>\n",
       "      <td>0.0030</td>\n",
       "      <td>0</td>\n",
       "      <td>0.999911</td>\n",
       "    </tr>\n",
       "  </tbody>\n",
       "</table>\n",
       "<p>5 rows × 62 columns</p>\n",
       "</div>"
      ],
      "text/plain": [
       "       x1      x2      x3      x4      x5      x6      x7      x8      x9  \\\n",
       "0  0.0190  0.0038  0.0642  0.0452  0.0333  0.0690  0.0901  0.1454  0.0740   \n",
       "1  0.0151  0.0320  0.0599  0.1050  0.1163  0.1734  0.1679  0.1119  0.0889   \n",
       "2  0.0712  0.0901  0.1276  0.1497  0.1284  0.1165  0.1285  0.1684  0.1830   \n",
       "3  0.1088  0.1278  0.0926  0.1234  0.1276  0.1731  0.1948  0.4262  0.6828   \n",
       "4  0.0086  0.0215  0.0242  0.0445  0.0667  0.0771  0.0499  0.0906  0.1229   \n",
       "\n",
       "      x10      ...           x53     x54     x55     x56     x57     x58  \\\n",
       "0  0.0349      ...        0.0118  0.0112  0.0094  0.0140  0.0072  0.0022   \n",
       "1  0.1205      ...        0.0015  0.0084  0.0128  0.0054  0.0011  0.0019   \n",
       "2  0.2127      ...        0.0156  0.0054  0.0030  0.0048  0.0087  0.0101   \n",
       "3  0.5761      ...        0.0213  0.0082  0.0124  0.0167  0.0103  0.0205   \n",
       "4  0.1185      ...        0.0054  0.0022  0.0016  0.0029  0.0058  0.0050   \n",
       "\n",
       "      x59     x60  r  y_initial_wts  \n",
       "0  0.0055  0.0122  0       0.999859  \n",
       "1  0.0023  0.0062  0       0.999671  \n",
       "2  0.0095  0.0068  1       0.999423  \n",
       "3  0.0178  0.0187  1       0.999984  \n",
       "4  0.0024  0.0030  0       0.999911  \n",
       "\n",
       "[5 rows x 62 columns]"
      ]
     },
     "execution_count": 11,
     "metadata": {},
     "output_type": "execute_result"
    }
   ],
   "source": [
    "W = []\n",
    "W_initial = 0.5\n",
    "for i in range(0, 61):\n",
    "    W.append(W_initial)\n",
    "    \n",
    "def Sigmoid_Function(data, W):\n",
    "    '''\n",
    "    data: the data which contains the attributes and label\n",
    "    W: a list of values of W, which is the weight list\n",
    "    '''\n",
    "    #Debugging\n",
    "    #print(\"Length of Weight List:\", len(W))\n",
    "    sig_func = []\n",
    "    W_vector = np.array(W)\n",
    "    X = data.drop('r', axis = 1)\n",
    "    r = data['r']\n",
    "    X_initial = [1]\n",
    "    for i in range(0, len(X)):\n",
    "        X_add = X_initial + list(X.iloc[i])\n",
    "        X_val = [X_add]\n",
    "        X_vector = np.array(X_val)\n",
    "        X_trans = X_vector.T\n",
    "        \n",
    "        #print(len(X_trans))\n",
    "        exp_power_eq = float(W_vector.dot(X_trans))\n",
    "        \n",
    "        sig_func_value = 1 / (1 + np.exp(-exp_power_eq))\n",
    "        \n",
    "        sig_func.append(sig_func_value) \n",
    "        \n",
    "    return sig_func\n",
    "    \n",
    "#print(Sigmoid_Function(data, W))\n",
    "\n",
    "data2 = data.copy()\n",
    "\n",
    "data2['y_initial_wts'] = Sigmoid_Function(data, W)\n",
    "\n",
    "data2.head()"
   ]
  },
  {
   "cell_type": "code",
   "execution_count": 12,
   "metadata": {},
   "outputs": [
    {
     "name": "stdout",
     "output_type": "stream",
     "text": [
      "[-3.9977525512593788, 0.39890849299372105, 0.36714895151813365, 0.3392009684900249, 0.31136113384320291, 0.22224846048047292, 0.087238855633233026, 0.0041719367460896772, -0.012385013632499331, -0.095936352934849145, -0.20670826226723638, -0.28583787356067014, -0.3608501616404205, -0.50355021542694667, -0.67133157947942412, -0.85771479984574972, -1.1820157589171154, -1.4225718107627356, -1.5535797540746645, -1.6385773766146294, -1.7845532193277669, -1.9912840810732422, -2.1659638840972941, -2.3364272764796006, -2.466995285299026, -2.5473119862308922, -2.6532491624377439, -2.6140302181791939, -2.4998191038488566, -2.2800458049088603, -2.0578857050502966, -1.8676579541657561, -1.5433574314752665, -1.468887695302366, -1.4894532376355056, -1.5692418172415254, -1.6185186521354944, -1.4230723202236826, -1.0586453638787721, -0.86572968356914082, -0.92032821763016281, -0.80716270277398183, -0.65018835978656297, -0.46209322524502883, -0.3033002698836742, -0.16514680647148561, -0.047728579483180877, 0.062461495905009878, 0.17643463610918042, 0.3201941608545692, 0.41906519784214175, 0.44306285936989154, 0.4543263901507677, 0.45747565211578517, 0.45797490025569509, 0.46244394434457858, 0.46681432244001242, 0.46440490494991482, 0.46918524516825472, 0.46874431700054248, 0.47316172811248236]\n"
     ]
    }
   ],
   "source": [
    "W = []\n",
    "W_initial = 0.5\n",
    "for i in range(0, 61):\n",
    "    W.append(W_initial)\n",
    "\n",
    "def Grad_Desc_Log_Reg(W, learning_rate, data, label, yt_func):\n",
    "    \n",
    "    #X = data.drop(['r', 'y_initial_wts'], axis = 1)\n",
    "    X = data.drop(label, axis = 1)\n",
    "    r = data[label]\n",
    "    y = yt_func\n",
    "    x = {}\n",
    "    new_W = []\n",
    "    for i in range(1, 61):\n",
    "        attr = \"x\" + str(i)\n",
    "        x[i] = list(X[attr])\n",
    "            \n",
    "    for k in range(0, len(W)):\n",
    "        \n",
    "        if k == 0:\n",
    "            diff = 0\n",
    "            for i, j in zip(r, y):\n",
    "                diff +=  (i - j)\n",
    "                \n",
    "            #W[k] = W[k] + ( learning_rate * diff )\n",
    "            new_W.append(W[k] + ( learning_rate * diff ) )\n",
    "            \n",
    "        else:\n",
    "            \n",
    "            diff_prod = 0\n",
    "            for i, j, m in zip(r, y, x[k]):\n",
    "                \n",
    "                diff_prod = diff_prod + ( (i - j) * m )\n",
    "            \n",
    "            #W[k] = W[k] + (learning_rate * diff_prod)\n",
    "            new_W.append(W[k] + ( learning_rate * diff_prod ) )\n",
    "        \n",
    "    \n",
    "    return new_W\n",
    "\n",
    "#print(Grad_Desc_Log_Reg(W, 0.05 , data2))\n",
    "print(Grad_Desc_Log_Reg(W, 0.05 , data, 'r', data2['y_initial_wts']))"
   ]
  },
  {
   "cell_type": "code",
   "execution_count": 13,
   "metadata": {},
   "outputs": [
    {
     "name": "stdout",
     "output_type": "stream",
     "text": [
      "776.588924987\n"
     ]
    }
   ],
   "source": [
    "import math\n",
    "def Cross_Entropy_Error_WO_Reg(r, y):\n",
    "    '''\n",
    "    i/p: \n",
    "    r - a list of labels (0 - Rock, 1 - Mine)\n",
    "    y - a list of the sigmoid functions for a particular observation (or row)\n",
    "    '''\n",
    "    summation = 0\n",
    "    for i, j in zip(r, y):\n",
    "        \n",
    "        \n",
    "        if j < (np.exp(-16)):\n",
    "            j = np.exp(-16)\n",
    "            \n",
    "        \n",
    "        \n",
    "        if j > 1 - np.exp(-16):\n",
    "            \n",
    "            j = (1 - np.exp(-16))\n",
    "            \n",
    "        #if regularized\n",
    "        summation = summation + ( ( i * np.log(j) ) + ( (1 - i) * np.log(1-j) ) )\n",
    "   \n",
    "    \n",
    "    \n",
    "    error = - summation\n",
    "    \n",
    "    return error\n",
    "\n",
    "print(Cross_Entropy_Error_WO_Reg(data2['r'], data2['y_initial_wts']))"
   ]
  },
  {
   "cell_type": "code",
   "execution_count": 14,
   "metadata": {},
   "outputs": [],
   "source": [
    "def Classification_Error(actual, predictions):\n",
    "    '''\n",
    "    '''\n",
    "    misclassified = 0\n",
    "    for i, j in zip(actual, predictions):\n",
    "        if i != j:\n",
    "            misclassified += 1\n",
    "            \n",
    "    class_error = ( misclassified / len(predictions)) * 100\n",
    "    \n",
    "    return class_error"
   ]
  },
  {
   "cell_type": "code",
   "execution_count": 17,
   "metadata": {
    "scrolled": false
   },
   "outputs": [
    {
     "name": "stdout",
     "output_type": "stream",
     "text": [
      "When Learning Rate is 0.001\n",
      "---------------------\n",
      "Classification Error after 50 iterations is: 28.333333333333332\n",
      "Cross Entropy Error after 50 iterations is: 102.695001295\n",
      "L2 Norm of W after 50 iterations is: 2.615654769660879\n",
      "---------------------\n"
     ]
    },
    {
     "data": {
      "image/png": "[encoded data removed]",
      "text/plain": [
       "<matplotlib.figure.Figure at 0x11dbdbd68>"
      ]
     },
     "metadata": {},
     "output_type": "display_data"
    },
    {
     "name": "stdout",
     "output_type": "stream",
     "text": [
      "When Learning Rate is 0.01\n",
      "---------------------\n",
      "Classification Error after 50 iterations is: 36.11111111111111\n",
      "Cross Entropy Error after 50 iterations is: 152.48539954\n",
      "L2 Norm of W after 50 iterations is: 6.5968758284079465\n",
      "---------------------\n"
     ]
    },
    {
     "data": {
      "image/png": "[encoded data removed]",
      "text/plain": [
       "<matplotlib.figure.Figure at 0x11dc147b8>"
      ]
     },
     "metadata": {},
     "output_type": "display_data"
    },
    {
     "name": "stdout",
     "output_type": "stream",
     "text": [
      "When Learning Rate is 0.05\n",
      "---------------------\n",
      "Classification Error after 50 iterations is: 36.11111111111111\n",
      "Cross Entropy Error after 50 iterations is: 759.86320955\n",
      "L2 Norm of W after 50 iterations is: 32.75974114584223\n",
      "---------------------\n"
     ]
    },
    {
     "data": {
      "image/png": "[encoded data removed]",
      "text/plain": [
       "<matplotlib.figure.Figure at 0x11dd62780>"
      ]
     },
     "metadata": {},
     "output_type": "display_data"
    },
    {
     "name": "stdout",
     "output_type": "stream",
     "text": [
      "When Learning Rate is 0.1\n",
      "---------------------\n",
      "Classification Error after 50 iterations is: 36.666666666666664\n",
      "Cross Entropy Error after 50 iterations is: 930.220976501\n",
      "L2 Norm of W after 50 iterations is: 65.00750322326611\n",
      "---------------------\n"
     ]
    },
    {
     "data": {
      "image/png": "[encoded data removed]",
      "text/plain": [
       "<matplotlib.figure.Figure at 0x11dde2da0>"
      ]
     },
     "metadata": {},
     "output_type": "display_data"
    },
    {
     "name": "stdout",
     "output_type": "stream",
     "text": [
      "When Learning Rate is 0.5\n",
      "---------------------\n",
      "Classification Error after 50 iterations is: 36.666666666666664\n",
      "Cross Entropy Error after 50 iterations is: 1024.83558578\n",
      "L2 Norm of W after 50 iterations is: 324.26185610045945\n",
      "---------------------\n"
     ]
    },
    {
     "data": {
      "image/png": "[encoded data removed]",
      "text/plain": [
       "<matplotlib.figure.Figure at 0x11df76320>"
      ]
     },
     "metadata": {},
     "output_type": "display_data"
    },
    {
     "name": "stderr",
     "output_type": "stream",
     "text": [
      "/Applications/anaconda/lib/python3.5/site-packages/ipykernel/__main__.py:27: RuntimeWarning: overflow encountered in exp\n"
     ]
    },
    {
     "name": "stdout",
     "output_type": "stream",
     "text": [
      "When Learning Rate is 1.0\n",
      "---------------------\n",
      "Classification Error after 50 iterations is: 36.666666666666664\n",
      "Cross Entropy Error after 50 iterations is: 1047.44079548\n",
      "L2 Norm of W after 50 iterations is: 649.2714279387136\n",
      "---------------------\n"
     ]
    },
    {
     "data": {
      "image/png": "[encoded data removed]",
      "text/plain": [
       "<matplotlib.figure.Figure at 0x11df4d278>"
      ]
     },
     "metadata": {},
     "output_type": "display_data"
    },
    {
     "name": "stdout",
     "output_type": "stream",
     "text": [
      "When Learning Rate is 1.5\n",
      "---------------------\n",
      "Classification Error after 50 iterations is: 36.666666666666664\n",
      "Cross Entropy Error after 50 iterations is: 1056.3445043\n",
      "L2 Norm of W after 50 iterations is: 973.8927264384598\n",
      "---------------------\n"
     ]
    },
    {
     "data": {
      "image/png": "[encoded data removed]",
      "text/plain": [
       "<matplotlib.figure.Figure at 0x11dd7f208>"
      ]
     },
     "metadata": {},
     "output_type": "display_data"
    }
   ],
   "source": [
    "\n",
    "learning_rate = [0.001, 0.01, 0.05, 0.1, 0.5, 1.0, 1.5]\n",
    "def Iter_Err(no_of_iterations, learning_rate, data):\n",
    "    '''\n",
    "    '''\n",
    "    x = []\n",
    "    y = []\n",
    "    predictions = []\n",
    "    label = 'r'\n",
    "    \n",
    "    wts = [0.5 for i in range(0, 61)]\n",
    "    #Debugging\n",
    "    yt = Sigmoid_Function(data, wts)\n",
    "    error = Cross_Entropy_Error_WO_Reg(data['r'], yt)\n",
    "    \n",
    "    x.append(0)\n",
    "    y.append(error)\n",
    "    \n",
    "    for i in range(1, no_of_iterations + 1):\n",
    "        #Debugging\n",
    "        wts = Grad_Desc_Log_Reg(wts, learning_rate, data, label, yt)\n",
    "        yt = Sigmoid_Function(data, wts)\n",
    "        error = Cross_Entropy_Error_WO_Reg(data['r'], yt)\n",
    "        \n",
    "        \n",
    "        x.append(i)\n",
    "        y.append(error)\n",
    "        \n",
    "    #yt = Sigmoid_Function(data, wts)\n",
    "    #Updated_yt will now have the yts after the end of for loop (ie, end of 50 iterations)\n",
    "    #mine - 1, rock - 0\n",
    "    \n",
    "    for t in yt:\n",
    "        \n",
    "        if t > 0.5:\n",
    "            predictions.append(1)\n",
    "            \n",
    "        else:\n",
    "            predictions.append(0)\n",
    "    \n",
    "    #L2 Norm\n",
    "    l2_norm_sum = 0\n",
    "    for l in wts[1:]:\n",
    "        l2_norm_sum += (l**2)\n",
    "    \n",
    "    \n",
    "    return x, y, predictions, error, math.sqrt(l2_norm_sum)\n",
    "\n",
    "\n",
    "for lr in range(1, len(learning_rate) + 1):\n",
    "    \n",
    "    plot_x, plot_y, final_predictions, updated_error, l2_norm_sum = Iter_Err(50, learning_rate[lr - 1], data)\n",
    "    \n",
    "    axes = plt.gca()\n",
    "    axes.set_xlim([-1,51])\n",
    "    print(\"When Learning Rate is\", learning_rate[lr-1])\n",
    "    print(\"---------------------\")\n",
    "    print(\"Classification Error after 50 iterations is:\", Classification_Error(data['r'], final_predictions))\n",
    "    print(\"Cross Entropy Error after 50 iterations is:\", updated_error)\n",
    "    print(\"L2 Norm of W after 50 iterations is:\", l2_norm_sum)\n",
    "    print(\"---------------------\")\n",
    "    \n",
    "    axes.plot(plot_x, plot_y)\n",
    "    plt.xlabel(\"Number of iterations\")\n",
    "    plt.ylabel(\"Cross Entropy Error\")\n",
    "    title_lr = str(learning_rate[lr - 1])\n",
    "    plt.title(\"When Learning Rate is \" +title_lr)\n",
    "    plt.show()"
   ]
  },
  {
   "cell_type": "markdown",
   "metadata": {},
   "source": [
    "## b)"
   ]
  },
  {
   "cell_type": "code",
   "execution_count": 18,
   "metadata": {},
   "outputs": [],
   "source": [
    "def Cross_Entropy_Error_With_Reg(r, y, lambda_term, W):\n",
    "    '''\n",
    "    i/p: \n",
    "    r - a list of labels (0 - Rock, 1 - Mine)\n",
    "    y - a list of the sigmoid functions for a particular observation (or row)\n",
    "    '''\n",
    "    l2_norm_sum = 0\n",
    "    for l in W[1:]:\n",
    "        l2_norm_sum += (l**2)\n",
    "    \n",
    "    summation = 0\n",
    "    for i, j in zip(r, y):\n",
    "        \n",
    "        \n",
    "        if j < (np.exp(-16)):\n",
    "            j = np.exp(-16)\n",
    "            \n",
    "        \n",
    "        \n",
    "        if j > 1 - np.exp(-16):\n",
    "            \n",
    "            j = (1 - np.exp(-16))\n",
    "            \n",
    "        #if regularized\n",
    "        summation = summation + ( ( i * np.log(j) ) + ( (1 - i) * np.log(1-j) ) )\n",
    "   \n",
    "    \n",
    "    \n",
    "    error = - summation\n",
    "    \n",
    "    regularized_error = error + ( (lambda_term / 2) * l2_norm_sum )\n",
    "    \n",
    "    return regularized_error"
   ]
  },
  {
   "cell_type": "code",
   "execution_count": 19,
   "metadata": {},
   "outputs": [],
   "source": [
    "# W = []\n",
    "# W_initial = 0.5\n",
    "# for i in range(0, 61):\n",
    "#     W.append(W_initial)\n",
    "\n",
    "def Grad_Desc_Log_Reg_Regularization(W, learning_rate, data, label, yt_func, lambda_term):\n",
    "    \n",
    "    #X = data.drop(['r', 'y_initial_wts'], axis = 1)\n",
    "    X = data.drop(label, axis = 1)\n",
    "    r = data[label]\n",
    "    y = yt_func\n",
    "    x = {}\n",
    "    new_W = []\n",
    "    for i in range(1, 61):\n",
    "        attr = \"x\" + str(i)\n",
    "        x[i] = list(X[attr])\n",
    "            \n",
    "    for k in range(0, len(W)):\n",
    "        \n",
    "        if k == 0:\n",
    "            diff = 0\n",
    "            for i, j in zip(r, y):\n",
    "                diff +=  (i - j)\n",
    "                \n",
    "            #W[k] = W[k] + ( learning_rate * diff )\n",
    "            new_W.append(W[k] + ( learning_rate * diff ) )\n",
    "            \n",
    "        else:\n",
    "            \n",
    "            diff_prod = 0\n",
    "            for i, j, m in zip(r, y, x[k]):\n",
    "                \n",
    "                diff_prod = diff_prod + ( (i - j) * m )\n",
    "            \n",
    "            #W[k] = W[k] + (learning_rate * diff_prod)\n",
    "            new_W.append(W[k] + ( learning_rate * ( diff_prod - ( lambda_term * W[k] ) ) ) )\n",
    "        \n",
    "    \n",
    "    return new_W\n",
    "\n",
    "#print(Grad_Desc_Log_Reg(W, 0.05 , data2))\n",
    "#print(Grad_Desc_Log_Reg(W, 0.05 , data, 'r', data2['y_initial_wts']))"
   ]
  },
  {
   "cell_type": "code",
   "execution_count": 20,
   "metadata": {
    "scrolled": false
   },
   "outputs": [
    {
     "name": "stdout",
     "output_type": "stream",
     "text": [
      "When Lambda Term is 0\n",
      "---------------------\n",
      "Classification Error after 50 iterations is: 28.333333333333332\n",
      "Cross Entropy Error after 50 iterations is: 102.695001295\n",
      "L2 Norm of W after 50 iterations is: 2.615654769660879\n",
      "---------------------\n",
      "When Lambda Term is 0.05\n",
      "---------------------\n",
      "Classification Error after 50 iterations is: 28.333333333333332\n",
      "Cross Entropy Error after 50 iterations is: 102.884414277\n",
      "L2 Norm of W after 50 iterations is: 2.60974858562006\n",
      "---------------------\n",
      "When Lambda Term is 0.1\n",
      "---------------------\n",
      "Classification Error after 50 iterations is: 28.333333333333332\n",
      "Cross Entropy Error after 50 iterations is: 103.072319956\n",
      "L2 Norm of W after 50 iterations is: 2.6038569169241272\n",
      "---------------------\n",
      "When Lambda Term is 0.2\n",
      "---------------------\n",
      "Classification Error after 50 iterations is: 28.333333333333332\n",
      "Cross Entropy Error after 50 iterations is: 103.443651365\n",
      "L2 Norm of W after 50 iterations is: 2.592116984061626\n",
      "---------------------\n",
      "When Lambda Term is 0.3\n",
      "---------------------\n",
      "Classification Error after 50 iterations is: 27.77777777777778\n",
      "Cross Entropy Error after 50 iterations is: 103.809078779\n",
      "L2 Norm of W after 50 iterations is: 2.5804346889272347\n",
      "---------------------\n",
      "When Lambda Term is 0.4\n",
      "---------------------\n",
      "Classification Error after 50 iterations is: 27.77777777777778\n",
      "Cross Entropy Error after 50 iterations is: 104.168684385\n",
      "L2 Norm of W after 50 iterations is: 2.568809750753183\n",
      "---------------------\n",
      "When Lambda Term is 0.5\n",
      "---------------------\n",
      "Classification Error after 50 iterations is: 27.77777777777778\n",
      "Cross Entropy Error after 50 iterations is: 104.522549314\n",
      "L2 Norm of W after 50 iterations is: 2.5572418901432976\n",
      "---------------------\n"
     ]
    }
   ],
   "source": [
    "#learning_rate = [0.001, 0.01, 0.05, 0.1, 0.5, 1.0, 1.5]\n",
    "lambda_term = [0, 0.05, 0.1, 0.2, 0.3, 0.4, 0.5]\n",
    "def Iter_Err_Regularizaed(no_of_iterations, learning_rate, data, lambda_term):\n",
    "    '''\n",
    "    '''\n",
    "    x = []\n",
    "    y = []\n",
    "    predictions = []\n",
    "    label = 'r'\n",
    "    \n",
    "    wts = [0.5 for i in range(0, 61)]\n",
    "    yt = Sigmoid_Function(data, wts)\n",
    "    error = Cross_Entropy_Error_With_Reg(data['r'], yt, lambda_term, wts)\n",
    "    \n",
    "    for i in range(no_of_iterations):\n",
    "        #Debugging\n",
    "        wts = Grad_Desc_Log_Reg_Regularization(wts, learning_rate, data, label, yt, lambda_term)\n",
    "        yt = Sigmoid_Function(data, wts)\n",
    "        error = Cross_Entropy_Error_With_Reg(data['r'], yt, lambda_term, wts)\n",
    "        \n",
    "        \n",
    "        x.append(i)\n",
    "        y.append(error)\n",
    "        \n",
    "    #yt = Sigmoid_Function(data, wts)\n",
    "    #Updated_yt will now have the yts after the end of for loop (ie, end of 50 iterations)\n",
    "    #mine - 1, rock - 0\n",
    "    \n",
    "    for t in yt:\n",
    "        \n",
    "        if t > 0.5:\n",
    "            predictions.append(1)\n",
    "            \n",
    "        else:\n",
    "            predictions.append(0)\n",
    "    \n",
    "    #L2 Norm\n",
    "    l2_norm_sum = 0\n",
    "    for l in wts[1:]:\n",
    "        l2_norm_sum += (l**2)\n",
    "    \n",
    "    \n",
    "    return x, y, predictions, error, math.sqrt(l2_norm_sum), wts\n",
    "\n",
    "\n",
    "for lt in range(1, len(lambda_term) + 1):\n",
    "    \n",
    "    plot_x, plot_y, final_predictions, updated_error, l2_norm_sum, _ = Iter_Err_Regularizaed(50, 0.001, data, lambda_term[lt - 1])\n",
    "    \n",
    "#     axes = plt.gca()\n",
    "#     axes.set_xlim([-1,51])\n",
    "    print(\"When Lambda Term is\", lambda_term[lt-1])\n",
    "    print(\"---------------------\")\n",
    "    print(\"Classification Error after 50 iterations is:\", Classification_Error(data['r'], final_predictions))\n",
    "    print(\"Cross Entropy Error after 50 iterations is:\", updated_error)\n",
    "    print(\"L2 Norm of W after 50 iterations is:\", l2_norm_sum)\n",
    "    print(\"---------------------\")\n",
    "    \n",
    "#     axes.plot(plot_x, plot_y)\n",
    "#     plt.xlabel(\"Number of iterations\")\n",
    "#     plt.ylabel(\"Cross Entropy Error\")\n",
    "#     title_lt = str(lambda_term[lt - 1])\n",
    "#     plt.title(\"When Learning Rate is \" +title_lt)\n",
    "#     plt.show()"
   ]
  },
  {
   "cell_type": "markdown",
   "metadata": {},
   "source": [
    "## Cross-Validation for Logistic Regression"
   ]
  },
  {
   "cell_type": "code",
   "execution_count": 21,
   "metadata": {},
   "outputs": [],
   "source": [
    "#A function that does cross validation and returns error, accuracy, and predictions\n",
    "def crossValidationwithLR(data, k, lambda_term):\n",
    "    '''\n",
    "    i/p:\n",
    "    data - the dataset 'data'\n",
    "    k - number of folds\n",
    "    o/p:\n",
    "    CV_class_error - the misclassified error across the entire predictions\n",
    "    '''\n",
    "    #getting the number of samples to take per fold by dividing total observations by k\n",
    "    samples = int(len(data)/k)\n",
    "    \n",
    "    #lists to store error, accuracy, and predictions\n",
    "    predictions_list = []\n",
    "    \n",
    "    #iterating fold-wise\n",
    "    for i in range(1, k+1):\n",
    "        \n",
    "        #taking one fold as test_set\n",
    "        test_set = data[(i-1)*samples:i*samples]\n",
    "        #taking the rest of the folds as the training_set\n",
    "        training_set = pd.concat([data[:(i-1)*samples], data[i*samples:]])\n",
    "        \n",
    "        _, _, _, _, _, wts = Iter_Err_Regularizaed(50, 0.001, training_set, lambda_term)\n",
    "        \n",
    "        yt = Sigmoid_Function(test_set, wts)\n",
    "        \n",
    "        for t in yt:\n",
    "            \n",
    "            if t > 0.5:\n",
    "                predictions_list.append(1)\n",
    "            \n",
    "            else:\n",
    "                predictions_list.append(0)\n",
    "                \n",
    "    \n",
    "    CV_class_error = Classification_Error(data['r'], predictions_list)\n",
    "    \n",
    "    \n",
    "    return CV_class_error\n"
   ]
  },
  {
   "cell_type": "code",
   "execution_count": 22,
   "metadata": {},
   "outputs": [
    {
     "name": "stdout",
     "output_type": "stream",
     "text": [
      "When Lambda Term is 0\n",
      "---------------------\n",
      "Classification Error for Cross Validation after 50 iterations is: 33.33333333333333\n",
      "---------------------\n",
      "When Lambda Term is 0.05\n",
      "---------------------\n",
      "Classification Error for Cross Validation after 50 iterations is: 33.33333333333333\n",
      "---------------------\n",
      "When Lambda Term is 0.1\n",
      "---------------------\n",
      "Classification Error for Cross Validation after 50 iterations is: 33.33333333333333\n",
      "---------------------\n",
      "When Lambda Term is 0.2\n",
      "---------------------\n",
      "Classification Error for Cross Validation after 50 iterations is: 32.77777777777778\n",
      "---------------------\n",
      "When Lambda Term is 0.3\n",
      "---------------------\n",
      "Classification Error for Cross Validation after 50 iterations is: 32.77777777777778\n",
      "---------------------\n",
      "When Lambda Term is 0.4\n",
      "---------------------\n",
      "Classification Error for Cross Validation after 50 iterations is: 32.77777777777778\n",
      "---------------------\n",
      "When Lambda Term is 0.5\n",
      "---------------------\n",
      "Classification Error for Cross Validation after 50 iterations is: 32.77777777777778\n",
      "---------------------\n"
     ]
    }
   ],
   "source": [
    "lambda_term = [0, 0.05, 0.1, 0.2, 0.3, 0.4, 0.5]\n",
    "for lt in lambda_term:\n",
    "    print(\"When Lambda Term is\", lt)\n",
    "    print(\"---------------------\")\n",
    "    print(\"Classification Error for Cross Validation after 50 iterations is:\", crossValidationwithLR(data, 5, lt))\n",
    "    print(\"---------------------\")"
   ]
  },
  {
   "cell_type": "code",
   "execution_count": null,
   "metadata": {},
   "outputs": [],
   "source": []
  }
 ],
 "metadata": {
  "kernelspec": {
   "display_name": "Python 3",
   "language": "python",
   "name": "python3"
  },
  "language_info": {
   "codemirror_mode": {
    "name": "ipython",
    "version": 3
   },
   "file_extension": ".py",
   "mimetype": "text/x-python",
   "name": "python",
   "nbconvert_exporter": "python",
   "pygments_lexer": "ipython3",
   "version": "3.5.2"
  }
 },
 "nbformat": 4,
 "nbformat_minor": 2
}
